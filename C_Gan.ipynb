{
 "cells": [
  {
   "cell_type": "markdown",
   "metadata": {
    "id": "EnNHdOz8n1hc"
   },
   "source": [
    "# 1.Getting Data:\n",
    "-----------------"
   ]
  },
  {
   "cell_type": "code",
   "execution_count": 180,
   "metadata": {
    "colab": {
     "base_uri": "https://localhost:8080/"
    },
    "id": "DIx0fy-Lywu-",
    "outputId": "ca3f074b-d0f7-4a39-ca59-59a55e2f257f"
   },
   "outputs": [],
   "source": [
    "from tensorflow.keras.datasets import fashion_mnist\n",
    "(xtrain,ytrain), (x_test, y_test) = fashion_mnist.load_data()"
   ]
  },
  {
   "cell_type": "markdown",
   "metadata": {
    "id": "WP_KXGDA1HL_"
   },
   "source": [
    "# 2. Build Discriminator & warming him up:\n",
    "-----------------"
   ]
  },
  {
   "cell_type": "code",
   "execution_count": 2,
   "metadata": {
    "id": "aP84Gvpf1OZu"
   },
   "outputs": [],
   "source": [
    "import tensorflow as tf\n",
    "from tensorflow.keras.models import Model\n",
    "from keras.optimizers import Adam\n",
    "from tensorflow.keras.layers import Conv2D,Dropout,Input,UpSampling2D,BatchNormalization,Flatten,Dense,Reshape,Embedding,concatenate,MaxPooling2D\n",
    "from tensorflow.keras.utils import plot_model"
   ]
  },
  {
   "cell_type": "code",
   "execution_count": 3,
   "metadata": {
    "id": "4I6vd1314CtY"
   },
   "outputs": [],
   "source": [
    "def discriminator(input_shape,n_classes=10):\n",
    "  inp_img=Input(shape=input_shape ,name=\"image\")\n",
    "  inp_label=Input(shape=(1,),name=\"label\")\n",
    "  emb=Embedding(n_classes,50)(inp_label)\n",
    "  il=Dense(28*28,activation=\"relu\")(emb)\n",
    "  il=Reshape((28,28,1))(il)\n",
    "\n",
    "\n",
    "  con=concatenate([inp_img,il])\n",
    "  x=Conv2D(64, 3, activation = 'relu')(con)\n",
    "  x=MaxPooling2D((2,2))(x)\n",
    "  x=Conv2D(64, 3, activation= 'relu')(x)\n",
    "  x=MaxPooling2D((2,2))(x)\n",
    "\n",
    "  x=Flatten()(x)\n",
    "  x=Dense(32,activation='relu')(x)\n",
    "  output=Dense(1,activation=\"sigmoid\")(x)\n",
    "  model = Model(inputs=[inp_img,inp_label],outputs=output,name=\"discrminator\")\n",
    "  model.summary()\n",
    "  model.compile(loss='binary_crossentropy', optimizer=Adam(learning_rate=1e-3), metrics=['accuracy'])\n",
    "  return model"
   ]
  },
  {
   "cell_type": "code",
   "execution_count": 4,
   "metadata": {
    "colab": {
     "base_uri": "https://localhost:8080/"
    },
    "id": "RZuYCMfp59L-",
    "outputId": "9914ee3b-97b1-4aec-ef11-c3a402b0c4ce"
   },
   "outputs": [
    {
     "name": "stdout",
     "output_type": "stream",
     "text": [
      "Model: \"discrminator\"\n",
      "__________________________________________________________________________________________________\n",
      " Layer (type)                   Output Shape         Param #     Connected to                     \n",
      "==================================================================================================\n",
      " label (InputLayer)             [(None, 1)]          0           []                               \n",
      "                                                                                                  \n",
      " embedding (Embedding)          (None, 1, 50)        500         ['label[0][0]']                  \n",
      "                                                                                                  \n",
      " dense (Dense)                  (None, 1, 784)       39984       ['embedding[0][0]']              \n",
      "                                                                                                  \n",
      " image (InputLayer)             [(None, 28, 28, 1)]  0           []                               \n",
      "                                                                                                  \n",
      " reshape (Reshape)              (None, 28, 28, 1)    0           ['dense[0][0]']                  \n",
      "                                                                                                  \n",
      " concatenate (Concatenate)      (None, 28, 28, 2)    0           ['image[0][0]',                  \n",
      "                                                                  'reshape[0][0]']                \n",
      "                                                                                                  \n",
      " conv2d (Conv2D)                (None, 26, 26, 64)   1216        ['concatenate[0][0]']            \n",
      "                                                                                                  \n",
      " max_pooling2d (MaxPooling2D)   (None, 13, 13, 64)   0           ['conv2d[0][0]']                 \n",
      "                                                                                                  \n",
      " conv2d_1 (Conv2D)              (None, 11, 11, 64)   36928       ['max_pooling2d[0][0]']          \n",
      "                                                                                                  \n",
      " max_pooling2d_1 (MaxPooling2D)  (None, 5, 5, 64)    0           ['conv2d_1[0][0]']               \n",
      "                                                                                                  \n",
      " flatten (Flatten)              (None, 1600)         0           ['max_pooling2d_1[0][0]']        \n",
      "                                                                                                  \n",
      " dense_1 (Dense)                (None, 32)           51232       ['flatten[0][0]']                \n",
      "                                                                                                  \n",
      " dense_2 (Dense)                (None, 1)            33          ['dense_1[0][0]']                \n",
      "                                                                                                  \n",
      "==================================================================================================\n",
      "Total params: 129,893\n",
      "Trainable params: 129,893\n",
      "Non-trainable params: 0\n",
      "__________________________________________________________________________________________________\n"
     ]
    }
   ],
   "source": [
    "D_model=discriminator((28,28,1),n_classes=10)"
   ]
  },
  {
   "cell_type": "code",
   "execution_count": 5,
   "metadata": {
    "colab": {
     "base_uri": "https://localhost:8080/",
     "height": 1000
    },
    "id": "Q3klM0Gf6aj6",
    "outputId": "e2a17500-e79f-469a-9d65-27bcc4131482"
   },
   "outputs": [
    {
     "name": "stdout",
     "output_type": "stream",
     "text": [
      "You must install pydot (`pip install pydot`) and install graphviz (see instructions at https://graphviz.gitlab.io/download/) for plot_model to work.\n"
     ]
    }
   ],
   "source": [
    "plot_model(D_model,show_shapes=True,show_layer_names=True,expand_nested=True)"
   ]
  },
  {
   "cell_type": "code",
   "execution_count": 6,
   "metadata": {
    "id": "Bs_furncYkcd"
   },
   "outputs": [],
   "source": [
    "from keras.utils import Sequence\n",
    "import numpy as np\n",
    "class DataGen(Sequence):\n",
    "  @staticmethod\n",
    "  def generate_fake(n_batch):\n",
    "      x=np.random.rand(28*28*1*n_batch)*2 - 1\n",
    "      x=x.reshape(n_batch,28,28,1)\n",
    "      label=np.random.rand(1*n_batch)\n",
    "      label=label.reshape(n_batch,1)\n",
    "      y=np.zeros((n_batch,1))\n",
    "      return [x,label],y \n",
    "\n",
    "  \n",
    "  def __init__(self,x,y,batch_size=32):\n",
    "    self.x=x\n",
    "    self.y=y\n",
    "    self.batch_size=batch_size\n",
    "    self.n_batches=self.x.shape[0]//self.batch_size\n",
    "    self.indexes=np.arange(self.x.shape[0])\n",
    "\n",
    "  def __len__(self):\n",
    "    return self.n_batches\n",
    "\n",
    "\n",
    "  def __getitem__(self, index):\n",
    "        \n",
    "        [xreal,label_real]=[np.expand_dims(self.x[index*self.batch_size//2:(index+1)*self.batch_size//2],axis=-1),np.expand_dims(self.y[index*self.batch_size//2:(index+1)*self.batch_size//2],axis=-1)]\n",
    "        yreal=np.ones(((self.batch_size//2),1))\n",
    "        [xfake,label_fake],yfake= DataGen.generate_fake((self.batch_size//2))\n",
    "                                                                                                                             \n",
    "        x=np.concatenate((xreal,xfake),axis=0)\n",
    "        label=np.concatenate((label_real,label_fake),axis=0)\n",
    "        y=np.concatenate((yreal,yfake),axis=0)\n",
    "        return ([x,label],y)\n"
   ]
  },
  {
   "cell_type": "code",
   "execution_count": 7,
   "metadata": {},
   "outputs": [],
   "source": [
    "B_size=512\n",
    "Data=DataGen(xtrain,ytrain,batch_size=B_size)"
   ]
  },
  {
   "cell_type": "code",
   "execution_count": 8,
   "metadata": {},
   "outputs": [
    {
     "name": "stdout",
     "output_type": "stream",
     "text": [
      "Epoch 1/5\n",
      "117/117 [==============================] - 11s 26ms/step - loss: 0.0932 - accuracy: 0.9500\n",
      "Epoch 2/5\n",
      "117/117 [==============================] - 3s 25ms/step - loss: 1.9493e-05 - accuracy: 1.0000\n",
      "Epoch 3/5\n",
      "117/117 [==============================] - 3s 25ms/step - loss: 1.1264e-05 - accuracy: 1.0000\n",
      "Epoch 4/5\n",
      "117/117 [==============================] - 3s 25ms/step - loss: 7.0416e-06 - accuracy: 1.0000\n",
      "Epoch 5/5\n",
      "117/117 [==============================] - 3s 25ms/step - loss: 4.6327e-06 - accuracy: 1.0000\n"
     ]
    },
    {
     "data": {
      "text/plain": [
       "<keras.callbacks.History at 0x29944f94be0>"
      ]
     },
     "execution_count": 8,
     "metadata": {},
     "output_type": "execute_result"
    }
   ],
   "source": [
    "D_model.fit(Data,epochs=5,steps_per_epoch=len(Data))"
   ]
  },
  {
   "cell_type": "markdown",
   "metadata": {
    "id": "A0LtjmLNMpoa"
   },
   "source": [
    "# 3. Build Generator:\n",
    "-----------------"
   ]
  },
  {
   "cell_type": "code",
   "execution_count": 9,
   "metadata": {
    "id": "ACTHLFOYCCUw"
   },
   "outputs": [],
   "source": [
    "def Generator(latent_dim,n_classes):\n",
    "\n",
    "  in_label=Input(shape=(1,),name=\"input_label\")\n",
    "  emb=Embedding(n_classes,50)(in_label)\n",
    "  n=7*7\n",
    "  de=Dense(n,activation='relu')(emb)\n",
    "  reshape=Reshape((7,7,1))(de)\n",
    "\n",
    "  in_lat=Input(shape=(latent_dim,),name=\"latent_input\")\n",
    "  nod=7*7*128\n",
    "  lat=Dense(nod,activation='leaky_relu')(in_lat)\n",
    "  lat=Reshape((7,7,128))(lat)\n",
    "  x=concatenate([lat,reshape])\n",
    "  x=UpSampling2D((2,2))(x)\n",
    "  x=Conv2D(256,3,padding='same',activation='leaky_relu')(x)\n",
    "  x=UpSampling2D((2,2))(x)\n",
    "  x=Conv2D(128,7,padding='same',activation='leaky_relu')(x)\n",
    "  output=Conv2D(1,7,padding='same',activation='sigmoid')(x)\n",
    "  model=Model([in_lat,in_label],output,name='Generator')\n",
    "  model.summary()\n",
    "  return model"
   ]
  },
  {
   "cell_type": "code",
   "execution_count": 10,
   "metadata": {
    "colab": {
     "base_uri": "https://localhost:8080/"
    },
    "id": "ctRH9BnvWcTJ",
    "outputId": "bf97c498-fd2f-4c1f-af5a-135b204cae4b"
   },
   "outputs": [
    {
     "name": "stdout",
     "output_type": "stream",
     "text": [
      "Model: \"Generator\"\n",
      "__________________________________________________________________________________________________\n",
      " Layer (type)                   Output Shape         Param #     Connected to                     \n",
      "==================================================================================================\n",
      " input_label (InputLayer)       [(None, 1)]          0           []                               \n",
      "                                                                                                  \n",
      " latent_input (InputLayer)      [(None, 100)]        0           []                               \n",
      "                                                                                                  \n",
      " embedding_1 (Embedding)        (None, 1, 50)        500         ['input_label[0][0]']            \n",
      "                                                                                                  \n",
      " dense_4 (Dense)                (None, 6272)         633472      ['latent_input[0][0]']           \n",
      "                                                                                                  \n",
      " dense_3 (Dense)                (None, 1, 49)        2499        ['embedding_1[0][0]']            \n",
      "                                                                                                  \n",
      " reshape_2 (Reshape)            (None, 7, 7, 128)    0           ['dense_4[0][0]']                \n",
      "                                                                                                  \n",
      " reshape_1 (Reshape)            (None, 7, 7, 1)      0           ['dense_3[0][0]']                \n",
      "                                                                                                  \n",
      " concatenate_1 (Concatenate)    (None, 7, 7, 129)    0           ['reshape_2[0][0]',              \n",
      "                                                                  'reshape_1[0][0]']              \n",
      "                                                                                                  \n",
      " up_sampling2d (UpSampling2D)   (None, 14, 14, 129)  0           ['concatenate_1[0][0]']          \n",
      "                                                                                                  \n",
      " conv2d_2 (Conv2D)              (None, 14, 14, 256)  297472      ['up_sampling2d[0][0]']          \n",
      "                                                                                                  \n",
      " up_sampling2d_1 (UpSampling2D)  (None, 28, 28, 256)  0          ['conv2d_2[0][0]']               \n",
      "                                                                                                  \n",
      " conv2d_3 (Conv2D)              (None, 28, 28, 128)  1605760     ['up_sampling2d_1[0][0]']        \n",
      "                                                                                                  \n",
      " conv2d_4 (Conv2D)              (None, 28, 28, 1)    6273        ['conv2d_3[0][0]']               \n",
      "                                                                                                  \n",
      "==================================================================================================\n",
      "Total params: 2,545,976\n",
      "Trainable params: 2,545,976\n",
      "Non-trainable params: 0\n",
      "__________________________________________________________________________________________________\n"
     ]
    }
   ],
   "source": [
    "G_model=Generator(100,n_classes=10)"
   ]
  },
  {
   "cell_type": "code",
   "execution_count": null,
   "metadata": {
    "colab": {
     "base_uri": "https://localhost:8080/",
     "height": 1000
    },
    "id": "3S7WDTZGSckt",
    "outputId": "892f01d0-2e91-4e6f-f297-4a37c78ac7ca"
   },
   "outputs": [
    {
     "data": {
      "image/png": "[encoded data removed]",
      "text/plain": [
       "<IPython.core.display.Image object>"
      ]
     },
     "execution_count": 32,
     "metadata": {},
     "output_type": "execute_result"
    }
   ],
   "source": [
    "plot_model(G_model,show_shapes=True,show_layer_names=True,expand_nested=True)"
   ]
  },
  {
   "cell_type": "markdown",
   "metadata": {},
   "source": []
  },
  {
   "cell_type": "code",
   "execution_count": 178,
   "metadata": {},
   "outputs": [],
   "source": [
    "xtrain=np.expand_dims(xtrain,axis=-1)\n",
    "xtrain=xtrain/255."
   ]
  },
  {
   "cell_type": "code",
   "execution_count": 179,
   "metadata": {},
   "outputs": [
    {
     "ename": "ValueError",
     "evalue": "Dimensions 60000 and 1 are not compatible",
     "output_type": "error",
     "traceback": [
      "\u001b[1;31m---------------------------------------------------------------------------\u001b[0m",
      "\u001b[1;31mValueError\u001b[0m                                Traceback (most recent call last)",
      "\u001b[1;32m~\\AppData\\Local\\Temp\\ipykernel_17468\\1563023078.py\u001b[0m in \u001b[0;36m<module>\u001b[1;34m\u001b[0m\n\u001b[1;32m----> 1\u001b[1;33m \u001b[0mdataset\u001b[0m \u001b[1;33m=\u001b[0m \u001b[0mtf\u001b[0m\u001b[1;33m.\u001b[0m\u001b[0mdata\u001b[0m\u001b[1;33m.\u001b[0m\u001b[0mDataset\u001b[0m\u001b[1;33m.\u001b[0m\u001b[0mfrom_tensor_slices\u001b[0m\u001b[1;33m(\u001b[0m\u001b[1;33m(\u001b[0m\u001b[0mxtrain\u001b[0m\u001b[1;33m,\u001b[0m\u001b[0mytrain\u001b[0m\u001b[1;33m)\u001b[0m\u001b[1;33m)\u001b[0m\u001b[1;33m\u001b[0m\u001b[1;33m\u001b[0m\u001b[0m\n\u001b[0m\u001b[0;32m      2\u001b[0m \u001b[0mdataset\u001b[0m \u001b[1;33m=\u001b[0m \u001b[0mdataset\u001b[0m\u001b[1;33m.\u001b[0m\u001b[0mshuffle\u001b[0m\u001b[1;33m(\u001b[0m\u001b[1;36m60000\u001b[0m\u001b[1;33m)\u001b[0m\u001b[1;33m.\u001b[0m\u001b[0mbatch\u001b[0m\u001b[1;33m(\u001b[0m\u001b[0mB_size\u001b[0m\u001b[1;33m)\u001b[0m\u001b[1;33m\u001b[0m\u001b[1;33m\u001b[0m\u001b[0m\n",
      "\u001b[1;32m~\\anaconda3\\lib\\site-packages\\tensorflow\\python\\data\\ops\\dataset_ops.py\u001b[0m in \u001b[0;36mfrom_tensor_slices\u001b[1;34m(tensors, name)\u001b[0m\n\u001b[0;32m    812\u001b[0m       \u001b[0mDataset\u001b[0m\u001b[1;33m:\u001b[0m \u001b[0mA\u001b[0m\u001b[0;31m \u001b[0m\u001b[0;31m`\u001b[0m\u001b[0mDataset\u001b[0m\u001b[0;31m`\u001b[0m\u001b[1;33m.\u001b[0m\u001b[1;33m\u001b[0m\u001b[1;33m\u001b[0m\u001b[0m\n\u001b[0;32m    813\u001b[0m     \"\"\"\n\u001b[1;32m--> 814\u001b[1;33m     \u001b[1;32mreturn\u001b[0m \u001b[0mTensorSliceDataset\u001b[0m\u001b[1;33m(\u001b[0m\u001b[0mtensors\u001b[0m\u001b[1;33m,\u001b[0m \u001b[0mname\u001b[0m\u001b[1;33m=\u001b[0m\u001b[0mname\u001b[0m\u001b[1;33m)\u001b[0m\u001b[1;33m\u001b[0m\u001b[1;33m\u001b[0m\u001b[0m\n\u001b[0m\u001b[0;32m    815\u001b[0m \u001b[1;33m\u001b[0m\u001b[0m\n\u001b[0;32m    816\u001b[0m   \u001b[1;32mclass\u001b[0m \u001b[0m_GeneratorState\u001b[0m\u001b[1;33m(\u001b[0m\u001b[0mobject\u001b[0m\u001b[1;33m)\u001b[0m\u001b[1;33m:\u001b[0m\u001b[1;33m\u001b[0m\u001b[1;33m\u001b[0m\u001b[0m\n",
      "\u001b[1;32m~\\anaconda3\\lib\\site-packages\\tensorflow\\python\\data\\ops\\dataset_ops.py\u001b[0m in \u001b[0;36m__init__\u001b[1;34m(self, element, is_files, name)\u001b[0m\n\u001b[0;32m   4718\u001b[0m         tensor_shape.dimension_value(self._tensors[0].get_shape()[0]))\n\u001b[0;32m   4719\u001b[0m     \u001b[1;32mfor\u001b[0m \u001b[0mt\u001b[0m \u001b[1;32min\u001b[0m \u001b[0mself\u001b[0m\u001b[1;33m.\u001b[0m\u001b[0m_tensors\u001b[0m\u001b[1;33m[\u001b[0m\u001b[1;36m1\u001b[0m\u001b[1;33m:\u001b[0m\u001b[1;33m]\u001b[0m\u001b[1;33m:\u001b[0m\u001b[1;33m\u001b[0m\u001b[1;33m\u001b[0m\u001b[0m\n\u001b[1;32m-> 4720\u001b[1;33m       batch_dim.assert_is_compatible_with(\n\u001b[0m\u001b[0;32m   4721\u001b[0m           tensor_shape.Dimension(\n\u001b[0;32m   4722\u001b[0m               tensor_shape.dimension_value(t.get_shape()[0])))\n",
      "\u001b[1;32m~\\anaconda3\\lib\\site-packages\\tensorflow\\python\\framework\\tensor_shape.py\u001b[0m in \u001b[0;36massert_is_compatible_with\u001b[1;34m(self, other)\u001b[0m\n\u001b[0;32m    297\u001b[0m     \"\"\"\n\u001b[0;32m    298\u001b[0m     \u001b[1;32mif\u001b[0m \u001b[1;32mnot\u001b[0m \u001b[0mself\u001b[0m\u001b[1;33m.\u001b[0m\u001b[0mis_compatible_with\u001b[0m\u001b[1;33m(\u001b[0m\u001b[0mother\u001b[0m\u001b[1;33m)\u001b[0m\u001b[1;33m:\u001b[0m\u001b[1;33m\u001b[0m\u001b[1;33m\u001b[0m\u001b[0m\n\u001b[1;32m--> 299\u001b[1;33m       raise ValueError(\"Dimensions %s and %s are not compatible\" %\n\u001b[0m\u001b[0;32m    300\u001b[0m                        (self, other))\n\u001b[0;32m    301\u001b[0m \u001b[1;33m\u001b[0m\u001b[0m\n",
      "\u001b[1;31mValueError\u001b[0m: Dimensions 60000 and 1 are not compatible"
     ]
    }
   ],
   "source": [
    "dataset = tf.data.Dataset.from_tensor_slices((xtrain,ytrain))\n",
    "dataset = dataset.shuffle(60000).batch(B_size)"
   ]
  },
  {
   "cell_type": "code",
   "execution_count": 177,
   "metadata": {},
   "outputs": [
    {
     "name": "stdout",
     "output_type": "stream",
     "text": [
      "(512, 28, 28, 1)\n"
     ]
    }
   ],
   "source": [
    "x,y=dataset.as_numpy_iterator().next()\n",
    "print(x.shape)"
   ]
  },
  {
   "cell_type": "code",
   "execution_count": 124,
   "metadata": {},
   "outputs": [
    {
     "data": {
      "text/plain": [
       "tensorflow.python.data.ops.dataset_ops.BatchDataset"
      ]
     },
     "execution_count": 124,
     "metadata": {},
     "output_type": "execute_result"
    }
   ],
   "source": [
    "type(dataset)"
   ]
  },
  {
   "cell_type": "markdown",
   "metadata": {
    "id": "NvQn7bndKFI3"
   },
   "source": [
    "# 4.Custom Trainning Loop:\n",
    "-----------------"
   ]
  },
  {
   "cell_type": "code",
   "execution_count": 161,
   "metadata": {},
   "outputs": [],
   "source": [
    "def model(input_shape,n_classes=10):\n",
    "  inp_img=Input(shape=input_shape ,name=\"image\")\n",
    "\n",
    "  x=Conv2D(64, 3, activation = 'relu')(inp_img)\n",
    "  x=MaxPooling2D((2,2))(x)\n",
    "  x=Conv2D(64, 3, activation= 'relu')(x)\n",
    "  x=MaxPooling2D((2,2))(x)\n",
    "\n",
    "  x=Flatten()(x)\n",
    "  x=Dense(32,activation='relu')(x)\n",
    "  output=Dense(1,activation=\"softmax\")(x)\n",
    "  model = Model(inputs=inp_img ,outputs=output,name=\"model\")\n",
    "  model.summary()\n",
    "  model.compile(loss='binary_crossentropy', optimizer=Adam(learning_rate=1e-3), metrics=['accuracy'])\n",
    "  return model"
   ]
  },
  {
   "cell_type": "code",
   "execution_count": 162,
   "metadata": {},
   "outputs": [
    {
     "name": "stdout",
     "output_type": "stream",
     "text": [
      "Model: \"model\"\n",
      "_________________________________________________________________\n",
      " Layer (type)                Output Shape              Param #   \n",
      "=================================================================\n",
      " image (InputLayer)          [(None, 28, 28, 1)]       0         \n",
      "                                                                 \n",
      " conv2d_7 (Conv2D)           (None, 26, 26, 64)        640       \n",
      "                                                                 \n",
      " max_pooling2d_4 (MaxPooling  (None, 13, 13, 64)       0         \n",
      " 2D)                                                             \n",
      "                                                                 \n",
      " conv2d_8 (Conv2D)           (None, 11, 11, 64)        36928     \n",
      "                                                                 \n",
      " max_pooling2d_5 (MaxPooling  (None, 5, 5, 64)         0         \n",
      " 2D)                                                             \n",
      "                                                                 \n",
      " flatten_2 (Flatten)         (None, 1600)              0         \n",
      "                                                                 \n",
      " dense_7 (Dense)             (None, 32)                51232     \n",
      "                                                                 \n",
      " dense_8 (Dense)             (None, 1)                 33        \n",
      "                                                                 \n",
      "=================================================================\n",
      "Total params: 88,833\n",
      "Trainable params: 88,833\n",
      "Non-trainable params: 0\n",
      "_________________________________________________________________\n"
     ]
    }
   ],
   "source": [
    "model=model((28,28,1),n_classes=10)"
   ]
  },
  {
   "cell_type": "code",
   "execution_count": null,
   "metadata": {},
   "outputs": [],
   "source": []
  },
  {
   "cell_type": "code",
   "execution_count": 171,
   "metadata": {
    "id": "ZvIS0GGnxgSd"
   },
   "outputs": [],
   "source": [
    "## custom Trainning loop:\n",
    "class Custom_Loop(Model):\n",
    "          \n",
    "\n",
    "  @staticmethod\n",
    "  def formating(x,label,batch_size):\n",
    "    label=tf.expand_dims(label,axis=-1)\n",
    "    y=tf.ones((batch_size,1))\n",
    "    return([x,label],y)\n",
    "\n",
    "\n",
    "  @staticmethod\n",
    "  def generate_latent(n_batches,latent_dim=100,n_classes=10):\n",
    "        x = tf.random.normal(shape=[n_batches * latent_dim])\n",
    "        x = tf.reshape(x, [n_batches, latent_dim])\n",
    "        label = tf.random.uniform(shape=[n_batches], minval=0, maxval=n_classes, dtype=tf.int32)   \n",
    "        label = tf.expand_dims(label, axis=-1)\n",
    "        return ([x,label]) \n",
    "\n",
    "\n",
    "  @staticmethod\n",
    "  def Generate_fakes(Generator,batch_size,latent_dim=100):\n",
    "        x,label=Custom_Loop.generate_latent(batch_size,latent_dim)\n",
    "        fake_img=Generator([x,label],training=False)\n",
    "        y=tf.zeros((batch_size,1))\n",
    "        return [fake_img,label],y\n",
    "    \n",
    "        \n",
    "  @staticmethod\n",
    "  def conc(x,y,batch_size,Generator):\n",
    "        [xreal,label_real],yreal=Custom_Loop.formating(x,y,batch_size)\n",
    "        [xfake,label_fake],yfake=Custom_Loop.Generate_fakes(Generator,batch_size)\n",
    "        xreal = tf.cast(xreal, tf.float32)  \n",
    "        x = tf.concat([xreal, xfake], axis=0)\n",
    "        label = tf.concat([label_real, label_fake], axis=0)\n",
    "        y = tf.concat([yreal, yfake], axis=0)\n",
    "        return ([x,label],y)\n",
    "    \n",
    "    \n",
    "\n",
    "  def __init__(self,D_model,G_model,batch_size,*args,**kwargs):\n",
    "    super().__init__(*args,**kwargs)\n",
    "    self.Discrimnator=D_model\n",
    "    self.Generator=G_model\n",
    "    self.batch_size=batch_size\n",
    "    self.callbacks = [] \n",
    "\n",
    "\n",
    "  def compile(self,D_loss,D_optimizer,*args,**kwargs):\n",
    "    super().compile(*args,**kwargs)\n",
    "    self.D_loss=D_loss\n",
    "    self.D_opt=D_optimizer\n",
    "    #self.G_loss=G_loss\n",
    "    #self.G_opt=G_opt\n",
    "\n",
    "\n",
    "  def train_step(self,data):\n",
    "    x,y=data \n",
    "    with tf.GradientTape() as D_tape:\n",
    "        yhat=self.Discrimnator(x,training=True)\n",
    "        loss=self.D_loss(y,yhat)\n",
    "    d_grad=D_tape.gradient(loss, self.Discrimnator.trainable_weights)\n",
    "    self.D_opt.apply_gradients(zip(d_grad,self.Discrimnator.trainable_weights))\n",
    "    return f\"dloss{loss}\"\n",
    "\n"
   ]
  },
  {
   "cell_type": "code",
   "execution_count": 172,
   "metadata": {},
   "outputs": [],
   "source": [
    "Train=Custom_Loop(model,G_model,B_size)"
   ]
  },
  {
   "cell_type": "code",
   "execution_count": 173,
   "metadata": {},
   "outputs": [],
   "source": [
    "#compile Models:\n",
    "from tensorflow.keras.losses import SparseCategoricalCrossentropy\n",
    "from tensorflow.keras.optimizers import Adam\n",
    "Train.compile(D_loss=SparseCategoricalCrossentropy(),D_optimizer=Adam(learning_rate=1e-3))"
   ]
  },
  {
   "cell_type": "code",
   "execution_count": 181,
   "metadata": {},
   "outputs": [
    {
     "name": "stdout",
     "output_type": "stream",
     "text": [
      "Epoch 1/1000\n"
     ]
    },
    {
     "ename": "InvalidArgumentError",
     "evalue": "Graph execution error:\n\nDetected at node 'sparse_categorical_crossentropy/SparseSoftmaxCrossEntropyWithLogits/SparseSoftmaxCrossEntropyWithLogits' defined at (most recent call last):\n    File \"C:\\Users\\ahmed\\anaconda3\\lib\\runpy.py\", line 197, in _run_module_as_main\n      return _run_code(code, main_globals, None,\n    File \"C:\\Users\\ahmed\\anaconda3\\lib\\runpy.py\", line 87, in _run_code\n      exec(code, run_globals)\n    File \"C:\\Users\\ahmed\\anaconda3\\lib\\site-packages\\ipykernel_launcher.py\", line 17, in <module>\n      app.launch_new_instance()\n    File \"C:\\Users\\ahmed\\anaconda3\\lib\\site-packages\\traitlets\\config\\application.py\", line 846, in launch_instance\n      app.start()\n    File \"C:\\Users\\ahmed\\anaconda3\\lib\\site-packages\\ipykernel\\kernelapp.py\", line 712, in start\n      self.io_loop.start()\n    File \"C:\\Users\\ahmed\\anaconda3\\lib\\site-packages\\tornado\\platform\\asyncio.py\", line 199, in start\n      self.asyncio_loop.run_forever()\n    File \"C:\\Users\\ahmed\\anaconda3\\lib\\asyncio\\base_events.py\", line 601, in run_forever\n      self._run_once()\n    File \"C:\\Users\\ahmed\\anaconda3\\lib\\asyncio\\base_events.py\", line 1905, in _run_once\n      handle._run()\n    File \"C:\\Users\\ahmed\\anaconda3\\lib\\asyncio\\events.py\", line 80, in _run\n      self._context.run(self._callback, *self._args)\n    File \"C:\\Users\\ahmed\\anaconda3\\lib\\site-packages\\ipykernel\\kernelbase.py\", line 510, in dispatch_queue\n      await self.process_one()\n    File \"C:\\Users\\ahmed\\anaconda3\\lib\\site-packages\\ipykernel\\kernelbase.py\", line 499, in process_one\n      await dispatch(*args)\n    File \"C:\\Users\\ahmed\\anaconda3\\lib\\site-packages\\ipykernel\\kernelbase.py\", line 406, in dispatch_shell\n      await result\n    File \"C:\\Users\\ahmed\\anaconda3\\lib\\site-packages\\ipykernel\\kernelbase.py\", line 730, in execute_request\n      reply_content = await reply_content\n    File \"C:\\Users\\ahmed\\anaconda3\\lib\\site-packages\\ipykernel\\ipkernel.py\", line 390, in do_execute\n      res = shell.run_cell(code, store_history=store_history, silent=silent)\n    File \"C:\\Users\\ahmed\\anaconda3\\lib\\site-packages\\ipykernel\\zmqshell.py\", line 528, in run_cell\n      return super().run_cell(*args, **kwargs)\n    File \"C:\\Users\\ahmed\\anaconda3\\lib\\site-packages\\IPython\\core\\interactiveshell.py\", line 2914, in run_cell\n      result = self._run_cell(\n    File \"C:\\Users\\ahmed\\anaconda3\\lib\\site-packages\\IPython\\core\\interactiveshell.py\", line 2960, in _run_cell\n      return runner(coro)\n    File \"C:\\Users\\ahmed\\anaconda3\\lib\\site-packages\\IPython\\core\\async_helpers.py\", line 78, in _pseudo_sync_runner\n      coro.send(None)\n    File \"C:\\Users\\ahmed\\anaconda3\\lib\\site-packages\\IPython\\core\\interactiveshell.py\", line 3185, in run_cell_async\n      has_raised = await self.run_ast_nodes(code_ast.body, cell_name,\n    File \"C:\\Users\\ahmed\\anaconda3\\lib\\site-packages\\IPython\\core\\interactiveshell.py\", line 3377, in run_ast_nodes\n      if (await self.run_code(code, result,  async_=asy)):\n    File \"C:\\Users\\ahmed\\anaconda3\\lib\\site-packages\\IPython\\core\\interactiveshell.py\", line 3457, in run_code\n      exec(code_obj, self.user_global_ns, self.user_ns)\n    File \"C:\\Users\\ahmed\\AppData\\Local\\Temp\\ipykernel_17468\\1790901015.py\", line 3, in <module>\n      Train.fit(xtrain,ytrain,epochs=1000,batch_size=B_size)\n    File \"C:\\Users\\ahmed\\anaconda3\\lib\\site-packages\\keras\\utils\\traceback_utils.py\", line 65, in error_handler\n      return fn(*args, **kwargs)\n    File \"C:\\Users\\ahmed\\anaconda3\\lib\\site-packages\\keras\\engine\\training.py\", line 1564, in fit\n      tmp_logs = self.train_function(iterator)\n    File \"C:\\Users\\ahmed\\anaconda3\\lib\\site-packages\\keras\\engine\\training.py\", line 1160, in train_function\n      return step_function(self, iterator)\n    File \"C:\\Users\\ahmed\\anaconda3\\lib\\site-packages\\keras\\engine\\training.py\", line 1146, in step_function\n      outputs = model.distribute_strategy.run(run_step, args=(data,))\n    File \"C:\\Users\\ahmed\\anaconda3\\lib\\site-packages\\keras\\engine\\training.py\", line 1135, in run_step\n      outputs = model.train_step(data)\n    File \"C:\\Users\\ahmed\\AppData\\Local\\Temp\\ipykernel_17468\\284170718.py\", line 61, in train_step\n      loss=self.D_loss(y,yhat)\n    File \"C:\\Users\\ahmed\\anaconda3\\lib\\site-packages\\keras\\losses.py\", line 152, in __call__\n      losses = call_fn(y_true, y_pred)\n    File \"C:\\Users\\ahmed\\anaconda3\\lib\\site-packages\\keras\\losses.py\", line 272, in call\n      return ag_fn(y_true, y_pred, **self._fn_kwargs)\n    File \"C:\\Users\\ahmed\\anaconda3\\lib\\site-packages\\keras\\losses.py\", line 2084, in sparse_categorical_crossentropy\n      return backend.sparse_categorical_crossentropy(\n    File \"C:\\Users\\ahmed\\anaconda3\\lib\\site-packages\\keras\\backend.py\", line 5630, in sparse_categorical_crossentropy\n      res = tf.nn.sparse_softmax_cross_entropy_with_logits(\nNode: 'sparse_categorical_crossentropy/SparseSoftmaxCrossEntropyWithLogits/SparseSoftmaxCrossEntropyWithLogits'\nlogits and labels must have the same first dimension, got logits shape [1,512] and labels shape [512]\n\t [[{{node sparse_categorical_crossentropy/SparseSoftmaxCrossEntropyWithLogits/SparseSoftmaxCrossEntropyWithLogits}}]] [Op:__inference_train_function_20876]",
     "output_type": "error",
     "traceback": [
      "\u001b[1;31m---------------------------------------------------------------------------\u001b[0m",
      "\u001b[1;31mInvalidArgumentError\u001b[0m                      Traceback (most recent call last)",
      "\u001b[1;32m~\\AppData\\Local\\Temp\\ipykernel_17468\\1790901015.py\u001b[0m in \u001b[0;36m<module>\u001b[1;34m\u001b[0m\n\u001b[0;32m      1\u001b[0m \u001b[0mstep\u001b[0m\u001b[1;33m=\u001b[0m\u001b[0mlen\u001b[0m\u001b[1;33m(\u001b[0m\u001b[0mdataset\u001b[0m\u001b[1;33m)\u001b[0m\u001b[1;33m\u001b[0m\u001b[1;33m\u001b[0m\u001b[0m\n\u001b[0;32m      2\u001b[0m \u001b[1;31m#print(step)\u001b[0m\u001b[1;33m\u001b[0m\u001b[1;33m\u001b[0m\u001b[0m\n\u001b[1;32m----> 3\u001b[1;33m \u001b[0mTrain\u001b[0m\u001b[1;33m.\u001b[0m\u001b[0mfit\u001b[0m\u001b[1;33m(\u001b[0m\u001b[0mxtrain\u001b[0m\u001b[1;33m,\u001b[0m\u001b[0mytrain\u001b[0m\u001b[1;33m,\u001b[0m\u001b[0mepochs\u001b[0m\u001b[1;33m=\u001b[0m\u001b[1;36m1000\u001b[0m\u001b[1;33m,\u001b[0m\u001b[0mbatch_size\u001b[0m\u001b[1;33m=\u001b[0m\u001b[0mB_size\u001b[0m\u001b[1;33m)\u001b[0m\u001b[1;33m\u001b[0m\u001b[1;33m\u001b[0m\u001b[0m\n\u001b[0m",
      "\u001b[1;32m~\\anaconda3\\lib\\site-packages\\keras\\utils\\traceback_utils.py\u001b[0m in \u001b[0;36merror_handler\u001b[1;34m(*args, **kwargs)\u001b[0m\n\u001b[0;32m     68\u001b[0m             \u001b[1;31m# To get the full stack trace, call:\u001b[0m\u001b[1;33m\u001b[0m\u001b[1;33m\u001b[0m\u001b[0m\n\u001b[0;32m     69\u001b[0m             \u001b[1;31m# `tf.debugging.disable_traceback_filtering()`\u001b[0m\u001b[1;33m\u001b[0m\u001b[1;33m\u001b[0m\u001b[0m\n\u001b[1;32m---> 70\u001b[1;33m             \u001b[1;32mraise\u001b[0m \u001b[0me\u001b[0m\u001b[1;33m.\u001b[0m\u001b[0mwith_traceback\u001b[0m\u001b[1;33m(\u001b[0m\u001b[0mfiltered_tb\u001b[0m\u001b[1;33m)\u001b[0m \u001b[1;32mfrom\u001b[0m \u001b[1;32mNone\u001b[0m\u001b[1;33m\u001b[0m\u001b[1;33m\u001b[0m\u001b[0m\n\u001b[0m\u001b[0;32m     71\u001b[0m         \u001b[1;32mfinally\u001b[0m\u001b[1;33m:\u001b[0m\u001b[1;33m\u001b[0m\u001b[1;33m\u001b[0m\u001b[0m\n\u001b[0;32m     72\u001b[0m             \u001b[1;32mdel\u001b[0m \u001b[0mfiltered_tb\u001b[0m\u001b[1;33m\u001b[0m\u001b[1;33m\u001b[0m\u001b[0m\n",
      "\u001b[1;32m~\\anaconda3\\lib\\site-packages\\tensorflow\\python\\eager\\execute.py\u001b[0m in \u001b[0;36mquick_execute\u001b[1;34m(op_name, num_outputs, inputs, attrs, ctx, name)\u001b[0m\n\u001b[0;32m     52\u001b[0m   \u001b[1;32mtry\u001b[0m\u001b[1;33m:\u001b[0m\u001b[1;33m\u001b[0m\u001b[1;33m\u001b[0m\u001b[0m\n\u001b[0;32m     53\u001b[0m     \u001b[0mctx\u001b[0m\u001b[1;33m.\u001b[0m\u001b[0mensure_initialized\u001b[0m\u001b[1;33m(\u001b[0m\u001b[1;33m)\u001b[0m\u001b[1;33m\u001b[0m\u001b[1;33m\u001b[0m\u001b[0m\n\u001b[1;32m---> 54\u001b[1;33m     tensors = pywrap_tfe.TFE_Py_Execute(ctx._handle, device_name, op_name,\n\u001b[0m\u001b[0;32m     55\u001b[0m                                         inputs, attrs, num_outputs)\n\u001b[0;32m     56\u001b[0m   \u001b[1;32mexcept\u001b[0m \u001b[0mcore\u001b[0m\u001b[1;33m.\u001b[0m\u001b[0m_NotOkStatusException\u001b[0m \u001b[1;32mas\u001b[0m \u001b[0me\u001b[0m\u001b[1;33m:\u001b[0m\u001b[1;33m\u001b[0m\u001b[1;33m\u001b[0m\u001b[0m\n",
      "\u001b[1;31mInvalidArgumentError\u001b[0m: Graph execution error:\n\nDetected at node 'sparse_categorical_crossentropy/SparseSoftmaxCrossEntropyWithLogits/SparseSoftmaxCrossEntropyWithLogits' defined at (most recent call last):\n    File \"C:\\Users\\ahmed\\anaconda3\\lib\\runpy.py\", line 197, in _run_module_as_main\n      return _run_code(code, main_globals, None,\n    File \"C:\\Users\\ahmed\\anaconda3\\lib\\runpy.py\", line 87, in _run_code\n      exec(code, run_globals)\n    File \"C:\\Users\\ahmed\\anaconda3\\lib\\site-packages\\ipykernel_launcher.py\", line 17, in <module>\n      app.launch_new_instance()\n    File \"C:\\Users\\ahmed\\anaconda3\\lib\\site-packages\\traitlets\\config\\application.py\", line 846, in launch_instance\n      app.start()\n    File \"C:\\Users\\ahmed\\anaconda3\\lib\\site-packages\\ipykernel\\kernelapp.py\", line 712, in start\n      self.io_loop.start()\n    File \"C:\\Users\\ahmed\\anaconda3\\lib\\site-packages\\tornado\\platform\\asyncio.py\", line 199, in start\n      self.asyncio_loop.run_forever()\n    File \"C:\\Users\\ahmed\\anaconda3\\lib\\asyncio\\base_events.py\", line 601, in run_forever\n      self._run_once()\n    File \"C:\\Users\\ahmed\\anaconda3\\lib\\asyncio\\base_events.py\", line 1905, in _run_once\n      handle._run()\n    File \"C:\\Users\\ahmed\\anaconda3\\lib\\asyncio\\events.py\", line 80, in _run\n      self._context.run(self._callback, *self._args)\n    File \"C:\\Users\\ahmed\\anaconda3\\lib\\site-packages\\ipykernel\\kernelbase.py\", line 510, in dispatch_queue\n      await self.process_one()\n    File \"C:\\Users\\ahmed\\anaconda3\\lib\\site-packages\\ipykernel\\kernelbase.py\", line 499, in process_one\n      await dispatch(*args)\n    File \"C:\\Users\\ahmed\\anaconda3\\lib\\site-packages\\ipykernel\\kernelbase.py\", line 406, in dispatch_shell\n      await result\n    File \"C:\\Users\\ahmed\\anaconda3\\lib\\site-packages\\ipykernel\\kernelbase.py\", line 730, in execute_request\n      reply_content = await reply_content\n    File \"C:\\Users\\ahmed\\anaconda3\\lib\\site-packages\\ipykernel\\ipkernel.py\", line 390, in do_execute\n      res = shell.run_cell(code, store_history=store_history, silent=silent)\n    File \"C:\\Users\\ahmed\\anaconda3\\lib\\site-packages\\ipykernel\\zmqshell.py\", line 528, in run_cell\n      return super().run_cell(*args, **kwargs)\n    File \"C:\\Users\\ahmed\\anaconda3\\lib\\site-packages\\IPython\\core\\interactiveshell.py\", line 2914, in run_cell\n      result = self._run_cell(\n    File \"C:\\Users\\ahmed\\anaconda3\\lib\\site-packages\\IPython\\core\\interactiveshell.py\", line 2960, in _run_cell\n      return runner(coro)\n    File \"C:\\Users\\ahmed\\anaconda3\\lib\\site-packages\\IPython\\core\\async_helpers.py\", line 78, in _pseudo_sync_runner\n      coro.send(None)\n    File \"C:\\Users\\ahmed\\anaconda3\\lib\\site-packages\\IPython\\core\\interactiveshell.py\", line 3185, in run_cell_async\n      has_raised = await self.run_ast_nodes(code_ast.body, cell_name,\n    File \"C:\\Users\\ahmed\\anaconda3\\lib\\site-packages\\IPython\\core\\interactiveshell.py\", line 3377, in run_ast_nodes\n      if (await self.run_code(code, result,  async_=asy)):\n    File \"C:\\Users\\ahmed\\anaconda3\\lib\\site-packages\\IPython\\core\\interactiveshell.py\", line 3457, in run_code\n      exec(code_obj, self.user_global_ns, self.user_ns)\n    File \"C:\\Users\\ahmed\\AppData\\Local\\Temp\\ipykernel_17468\\1790901015.py\", line 3, in <module>\n      Train.fit(xtrain,ytrain,epochs=1000,batch_size=B_size)\n    File \"C:\\Users\\ahmed\\anaconda3\\lib\\site-packages\\keras\\utils\\traceback_utils.py\", line 65, in error_handler\n      return fn(*args, **kwargs)\n    File \"C:\\Users\\ahmed\\anaconda3\\lib\\site-packages\\keras\\engine\\training.py\", line 1564, in fit\n      tmp_logs = self.train_function(iterator)\n    File \"C:\\Users\\ahmed\\anaconda3\\lib\\site-packages\\keras\\engine\\training.py\", line 1160, in train_function\n      return step_function(self, iterator)\n    File \"C:\\Users\\ahmed\\anaconda3\\lib\\site-packages\\keras\\engine\\training.py\", line 1146, in step_function\n      outputs = model.distribute_strategy.run(run_step, args=(data,))\n    File \"C:\\Users\\ahmed\\anaconda3\\lib\\site-packages\\keras\\engine\\training.py\", line 1135, in run_step\n      outputs = model.train_step(data)\n    File \"C:\\Users\\ahmed\\AppData\\Local\\Temp\\ipykernel_17468\\284170718.py\", line 61, in train_step\n      loss=self.D_loss(y,yhat)\n    File \"C:\\Users\\ahmed\\anaconda3\\lib\\site-packages\\keras\\losses.py\", line 152, in __call__\n      losses = call_fn(y_true, y_pred)\n    File \"C:\\Users\\ahmed\\anaconda3\\lib\\site-packages\\keras\\losses.py\", line 272, in call\n      return ag_fn(y_true, y_pred, **self._fn_kwargs)\n    File \"C:\\Users\\ahmed\\anaconda3\\lib\\site-packages\\keras\\losses.py\", line 2084, in sparse_categorical_crossentropy\n      return backend.sparse_categorical_crossentropy(\n    File \"C:\\Users\\ahmed\\anaconda3\\lib\\site-packages\\keras\\backend.py\", line 5630, in sparse_categorical_crossentropy\n      res = tf.nn.sparse_softmax_cross_entropy_with_logits(\nNode: 'sparse_categorical_crossentropy/SparseSoftmaxCrossEntropyWithLogits/SparseSoftmaxCrossEntropyWithLogits'\nlogits and labels must have the same first dimension, got logits shape [1,512] and labels shape [512]\n\t [[{{node sparse_categorical_crossentropy/SparseSoftmaxCrossEntropyWithLogits/SparseSoftmaxCrossEntropyWithLogits}}]] [Op:__inference_train_function_20876]"
     ]
    }
   ],
   "source": [
    "step=len(dataset)\n",
    "#print(step)\n",
    "Train.fit(xtrain,ytrain,epochs=1000,batch_size=B_size)"
   ]
  },
  {
   "cell_type": "code",
   "execution_count": 145,
   "metadata": {},
   "outputs": [],
   "source": [
    "from tqdm import tqdm\n",
    "\n",
    "class KerasProgessCallback(tf.keras.callbacks.Callback):\n",
    "    def on_train_begin(self, logs={}):\n",
    "        self.pbar = tqdm(total=self.params['epochs'])\n",
    "\n",
    "    def on_epoch_end(self, batch, logs={}):\n",
    "        self.pbar.update(1)\n",
    "\n",
    "    def on_train_end(self, logs={}):\n",
    "        self.pbar.close()\n"
   ]
  },
  {
   "cell_type": "code",
   "execution_count": null,
   "metadata": {},
   "outputs": [],
   "source": []
  },
  {
   "cell_type": "code",
   "execution_count": null,
   "metadata": {
    "id": "16jV68TZZ1aT"
   },
   "outputs": [],
   "source": [
    "def train(Discrimnator,Generator,Gan,latent_dim,dataset,n_batches=128,n_epoches=100):\n",
    "  batch_per_epoch=int(dataset[0].shape[0]/n_batches)\n",
    "  half_batch=int(n_batches/2)\n",
    "  for epoch in range(n_epoches):\n",
    "    print(f\"Epoch {epoch}/{n_epoches}: \")\n",
    "    for n_batch in range(batch_per_epoch):\n",
    "      zreal,yreal=generate_real(dataset,half_batch)\n",
    "      d1loss,_=Discrimnator.train_on_batch(zreal,yreal)\n",
    "      zfake,yfake=gen_from_gen(Generator,latent_dim,half_batch)\n",
    "      d2loss,_=Discrimnator.train_on_batch(zfake,yfake)\n",
    "      gan_inp=generate_latent(latent_dim,n_batches)\n",
    "      y_gan=np.ones(shape=(n_batches,1))\n",
    "      gloss=Gan(gan_inp,y_gan)\n",
    "      print(f\"Epoch {epoch}/{n_epoches}: D1_loss:{d1loss} , D2_loss: {d2loss} , G_loss: {gloss[0][0]} \")\n",
    "    Generator.save(\"Generator.hdf5\")\n",
    "    Discrimnator.save(\"Discrimnator.hdf5\")"
   ]
  },
  {
   "cell_type": "code",
   "execution_count": 116,
   "metadata": {},
   "outputs": [],
   "source": [
    "x,y=dataset.as_numpy_iterator().next()\n",
    "x=np.expand_dims(x[0],axis=0)\n",
    "y=np.expand_dims(y[0],axis=0)"
   ]
  },
  {
   "cell_type": "code",
   "execution_count": 118,
   "metadata": {},
   "outputs": [
    {
     "name": "stdout",
     "output_type": "stream",
     "text": [
      "1/1 [==============================] - 3s 3s/step\n"
     ]
    }
   ],
   "source": [
    "result=D_model.predict([x,y])"
   ]
  },
  {
   "cell_type": "code",
   "execution_count": 119,
   "metadata": {},
   "outputs": [
    {
     "data": {
      "text/plain": [
       "array([[0.76978344]], dtype=float32)"
      ]
     },
     "execution_count": 119,
     "metadata": {},
     "output_type": "execute_result"
    }
   ],
   "source": [
    "result"
   ]
  },
  {
   "cell_type": "code",
   "execution_count": 122,
   "metadata": {},
   "outputs": [
    {
     "name": "stdout",
     "output_type": "stream",
     "text": [
      "[0.2616459]\n"
     ]
    }
   ],
   "source": [
    "loss = tf.keras.losses.binary_crossentropy(1.0,result).numpy()\n",
    "print(loss)"
   ]
  },
  {
   "cell_type": "code",
   "execution_count": null,
   "metadata": {},
   "outputs": [],
   "source": []
  }
 ],
 "metadata": {
  "accelerator": "GPU",
  "colab": {
   "provenance": []
  },
  "gpuClass": "standard",
  "kernelspec": {
   "display_name": "Python 3 (ipykernel)",
   "language": "python",
   "name": "python3"
  },
  "language_info": {
   "codemirror_mode": {
    "name": "ipython",
    "version": 3
   },
   "file_extension": ".py",
   "mimetype": "text/x-python",
   "name": "python",
   "nbconvert_exporter": "python",
   "pygments_lexer": "ipython3",
   "version": "3.9.13"
  }
 },
 "nbformat": 4,
 "nbformat_minor": 1
}
